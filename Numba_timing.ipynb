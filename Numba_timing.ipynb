{
 "cells": [
  {
   "cell_type": "code",
   "execution_count": 1,
   "id": "584efd39-40f1-4c0c-a7d7-e7e7771b09ef",
   "metadata": {},
   "outputs": [],
   "source": [
    "\"\"\"\n",
    "Comparing Python function execution and Numba compiled function execution times.\n",
    "\"\"\"\n",
    "\n",
    "from __future__ import print_function\n",
    "import numpy as np\n",
    "from numba import jit\n",
    "import time\n",
    "import random"
   ]
  },
  {
   "cell_type": "code",
   "execution_count": 2,
   "id": "11a5edf4-46d2-44ca-a1bb-8ca9245b3e3e",
   "metadata": {},
   "outputs": [],
   "source": [
    "def timethis(method):\n",
    "    '''decorator for timing function calls'''\n",
    "    def timed(*args, **kwargs):\n",
    "        ts = time.time()\n",
    "        result = method(*args, **kwargs)\n",
    "        te = time.time()\n",
    "        print('{!r} {:f} s'.format(method.__name__, te - ts))\n",
    "        return result\n",
    "    return timed"
   ]
  },
  {
   "cell_type": "code",
   "execution_count": 3,
   "id": "9f35d00a-fb87-44bc-b377-a66e005497b2",
   "metadata": {},
   "outputs": [],
   "source": [
    "@timethis\n",
    "def monte_carlo_pi(nsamples):\n",
    "    acc = 0\n",
    "    for i in range(nsamples):\n",
    "        x = random.random()\n",
    "        y = random.random()\n",
    "        if (x ** 2 + y ** 2) < 1.0:\n",
    "            acc += 1\n",
    "    return 4.0 * acc / nsamples"
   ]
  },
  {
   "cell_type": "code",
   "execution_count": 4,
   "id": "f4b7d21f-e8de-41bf-b8db-ffd58b1dd54f",
   "metadata": {},
   "outputs": [],
   "source": [
    "@timethis\n",
    "@jit(nopython=True)\n",
    "def monte_carlo_pi_numba(nsamples):\n",
    "    acc = 0\n",
    "    for i in range(nsamples):\n",
    "        x = random.random()\n",
    "        y = random.random()\n",
    "        if (x ** 2 + y ** 2) < 1.0:\n",
    "            acc += 1\n",
    "    return 4.0 * acc / nsamples"
   ]
  },
  {
   "cell_type": "code",
   "execution_count": 21,
   "id": "74eb3953-a2ac-4779-96bf-af3eea0f9f4e",
   "metadata": {},
   "outputs": [
    {
     "name": "stdout",
     "output_type": "stream",
     "text": [
      "'monte_carlo_pi' 0.690994 s\n"
     ]
    },
    {
     "data": {
      "text/plain": [
       "3.14262"
      ]
     },
     "execution_count": 21,
     "metadata": {},
     "output_type": "execute_result"
    }
   ],
   "source": [
    "monte_carlo_pi(1000000)"
   ]
  },
  {
   "cell_type": "code",
   "execution_count": 22,
   "id": "1edd0ace-94ed-42f2-b57b-6b6e32f9879c",
   "metadata": {},
   "outputs": [
    {
     "name": "stdout",
     "output_type": "stream",
     "text": [
      "'monte_carlo_pi_numba' 0.034997 s\n"
     ]
    },
    {
     "data": {
      "text/plain": [
       "3.137024"
      ]
     },
     "execution_count": 22,
     "metadata": {},
     "output_type": "execute_result"
    }
   ],
   "source": [
    "# First run for compiling to machine code and after that Numba compiled code is almost 30 times\n",
    "# faster that pure Python\n",
    "monte_carlo_pi_numba(1000000)"
   ]
  },
  {
   "cell_type": "code",
   "execution_count": null,
   "id": "f20c8ca9-9333-4785-80e4-16d02d3267fa",
   "metadata": {},
   "outputs": [],
   "source": []
  }
 ],
 "metadata": {
  "kernelspec": {
   "display_name": "Python 3",
   "language": "python",
   "name": "python3"
  },
  "language_info": {
   "codemirror_mode": {
    "name": "ipython",
    "version": 3
   },
   "file_extension": ".py",
   "mimetype": "text/x-python",
   "name": "python",
   "nbconvert_exporter": "python",
   "pygments_lexer": "ipython3",
   "version": "3.8.10"
  }
 },
 "nbformat": 4,
 "nbformat_minor": 5
}
