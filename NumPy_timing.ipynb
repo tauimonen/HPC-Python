{
 "cells": [
  {
   "cell_type": "markdown",
   "id": "aaca7d59-44b7-4751-ba9f-d6a04b7248b1",
   "metadata": {},
   "source": [
    "This timing example is inspired by: https://github.com/edkrueger/dot-product-timing/blob/master/dot_product_timing.ipynb"
   ]
  },
  {
   "cell_type": "code",
   "execution_count": 1,
   "id": "d73c2f45-692a-4958-94b8-3e18c2a259e5",
   "metadata": {
    "tags": []
   },
   "outputs": [],
   "source": [
    "import numpy as np\n",
    "from timeit import timeit\n",
    "import matplotlib.pyplot as plt\n",
    "from numba import jit\n",
    "import matplotlib.pyplot as plt"
   ]
  },
  {
   "cell_type": "code",
   "execution_count": 2,
   "id": "b7ed7517-dfc2-49c5-9611-73e1c5262dc5",
   "metadata": {},
   "outputs": [],
   "source": [
    "# Create the vectors for NumPy-based timing.\n",
    "\n",
    "a_array = np.random.randn(10**3)\n",
    "b_array = np.random.randn(10**3)\n",
    "\n",
    "# Create lists for the loop-based timing.\n",
    "\n",
    "a_list = list(a_array)\n",
    "b_list = list(b_array)"
   ]
  },
  {
   "cell_type": "code",
   "execution_count": 3,
   "id": "a4403092-3356-48cc-a044-cfad90d80171",
   "metadata": {},
   "outputs": [
    {
     "name": "stdout",
     "output_type": "stream",
     "text": [
      "NumPy a_array (head):\n",
      " [ 0.97730427  0.16236987  2.02189961  0.59135013 -0.45075845  1.29525757\n",
      " -1.03684911 -0.36714916 -0.34255067 -1.7279055 ]\n",
      "\n",
      "a_list (head):\n",
      " [0.9773042697536674, 0.16236987373710673, 2.0218996148710517, 0.5913501320409195, -0.4507584513335131, 1.2952575736253222, -1.036849113286581, -0.3671491614765263, -0.3425506701984621, -1.7279054951319446]\n"
     ]
    }
   ],
   "source": [
    "print(\"NumPy a_array (head):\\n\", a_array[:10])\n",
    "print(\"\\na_list (head):\\n\", a_list[:10])"
   ]
  },
  {
   "cell_type": "code",
   "execution_count": 4,
   "id": "a1d3987f-06bc-49f8-8d96-9b440251998e",
   "metadata": {
    "tags": []
   },
   "outputs": [],
   "source": [
    "def dot(a_array, b_array):\n",
    "    \"\"\"\n",
    "    Takes two vectors as a parameter and returns their dot product.\n",
    "    Param: array-like floats\n",
    "    Return: float\n",
    "    \"\"\"\n",
    "    \n",
    "    dot_product = 0\n",
    "    for a, b in zip(a_array, b_array):\n",
    "        dot_product += a * b\n",
    "    \n",
    "    return dot_product"
   ]
  },
  {
   "cell_type": "code",
   "execution_count": 5,
   "id": "df7ded90-2ab9-4b3d-b6ad-389e2bae04a3",
   "metadata": {},
   "outputs": [],
   "source": [
    "@jit(nopython=True)\n",
    "def dot_numba(a_array, b_array):\n",
    "    \"\"\"\n",
    "    Takes two vectors as a parameter and returns their dot product.\n",
    "    Param: array-like floats\n",
    "    Return: float\n",
    "    \"\"\"\n",
    "    \n",
    "    dot_product = 0\n",
    "    for a, b in zip(a_array, b_array):\n",
    "        dot_product += a * b\n",
    "    \n",
    "    return dot_product"
   ]
  },
  {
   "cell_type": "code",
   "execution_count": 6,
   "id": "995fd5b8-8046-4d6f-9ef6-7123584811a0",
   "metadata": {},
   "outputs": [
    {
     "name": "stdout",
     "output_type": "stream",
     "text": [
      "448 µs ± 214 µs per loop (mean ± std. dev. of 7 runs, 10 loops each)\n"
     ]
    }
   ],
   "source": [
    "# Find the average of 10 runs of the loop-based dot product function\n",
    "# using arrays as inputs\n",
    "\n",
    "%timeit -n 10 dot(a_array, b_array)"
   ]
  },
  {
   "cell_type": "code",
   "execution_count": 7,
   "id": "d0707852-2b8e-4334-824d-d399438b1a45",
   "metadata": {},
   "outputs": [
    {
     "name": "stdout",
     "output_type": "stream",
     "text": [
      "The slowest run took 53990.70 times longer than the fastest. This could mean that an intermediate result is being cached.\n",
      "24.3 ms ± 59.5 ms per loop (mean ± std. dev. of 7 runs, 10 loops each)\n"
     ]
    }
   ],
   "source": [
    "# Same using Numba compiling, 2nd run\n",
    "%timeit -n 10 dot_numba(a_array, b_array)"
   ]
  },
  {
   "cell_type": "code",
   "execution_count": 8,
   "id": "6d775ece-f9b4-4993-930f-7cb9dffa45d5",
   "metadata": {},
   "outputs": [
    {
     "name": "stdout",
     "output_type": "stream",
     "text": [
      "214 µs ± 7.99 µs per loop (mean ± std. dev. of 7 runs, 10 loops each)\n"
     ]
    }
   ],
   "source": [
    "# Find the average of 10 runs of the loop-based dot product function\n",
    "# using lists as inputs\n",
    "\n",
    "%timeit -n 10 dot(a_list, b_list)"
   ]
  },
  {
   "cell_type": "code",
   "execution_count": 12,
   "id": "fdfcdb61-f672-4ebd-b44e-638c7b9dd583",
   "metadata": {},
   "outputs": [
    {
     "name": "stdout",
     "output_type": "stream",
     "text": [
      "5.57 ms ± 454 µs per loop (mean ± std. dev. of 7 runs, 10 loops each)\n"
     ]
    }
   ],
   "source": [
    "%timeit -n 10 dot_numba(a_list, b_list)"
   ]
  },
  {
   "cell_type": "code",
   "execution_count": 13,
   "id": "dce988b9-a953-4489-bf5f-8402dc495bd3",
   "metadata": {},
   "outputs": [
    {
     "name": "stdout",
     "output_type": "stream",
     "text": [
      "47 µs ± 19.8 µs per loop (mean ± std. dev. of 7 runs, 10 loops each)\n"
     ]
    }
   ],
   "source": [
    "# Find average of 10 runs of numpy's dot product\n",
    "\n",
    "%timeit -n 10 np.dot(a_array, b_array)"
   ]
  },
  {
   "cell_type": "code",
   "execution_count": 14,
   "id": "a1c92856-f76e-4174-89ed-e49e08ba9ff2",
   "metadata": {},
   "outputs": [],
   "source": [
    "# Make function for NumPy's dot product, which can then be Numba compiled.\n",
    "\n",
    "@jit(nopython=True)\n",
    "def dot_np_numba(a_array, b_array):\n",
    "    return np.dot(a_array, b_array)"
   ]
  },
  {
   "cell_type": "code",
   "execution_count": 15,
   "id": "ac9b985f-a222-486b-9ad9-499da932b84c",
   "metadata": {},
   "outputs": [],
   "source": [
    "import bodo\n",
    "\n",
    "@bodo.jit\n",
    "def dot_np_bodo(a_array, b_array):\n",
    "    return np.dot(a_array, b_array)"
   ]
  },
  {
   "cell_type": "code",
   "execution_count": 16,
   "id": "8260c975-d664-473d-b951-9933a729debb",
   "metadata": {},
   "outputs": [
    {
     "name": "stdout",
     "output_type": "stream",
     "text": [
      "The slowest run took 28857.98 times longer than the fastest. This could mean that an intermediate result is being cached.\n",
      "3.42 ms ± 8.38 ms per loop (mean ± std. dev. of 7 runs, 10 loops each)\n"
     ]
    }
   ],
   "source": [
    "%timeit -n 10 dot_np_numba(a_array, b_array)"
   ]
  },
  {
   "cell_type": "markdown",
   "id": "08d51357-a32c-4930-af49-e401ce5153e8",
   "metadata": {},
   "source": [
    "Use timeit package to create an enviroment to time a function. \n",
    "It turns off garbage collection and caching by default."
   ]
  },
  {
   "cell_type": "markdown",
   "id": "187e76b1-8ee6-42f5-bf35-e96ad9fd6844",
   "metadata": {},
   "source": [
    "In order to use timeit, create a function with no arguments to time. The timeit function from the timeit package expects a function with no arguments. This can be done by passing a lambda function, with no arguements, as an argument to timeit."
   ]
  },
  {
   "cell_type": "code",
   "execution_count": 17,
   "id": "eceb961d-fba0-428d-af6d-b55cfe433ac5",
   "metadata": {},
   "outputs": [
    {
     "name": "stdout",
     "output_type": "stream",
     "text": [
      "0.7479500000044936 ms\n"
     ]
    }
   ],
   "source": [
    "time = timeit(lambda: dot(a_array, b_array), number=10)\n",
    "\n",
    "print(((time * 1000) / 10), \"ms\")"
   ]
  },
  {
   "cell_type": "code",
   "execution_count": 18,
   "id": "f8c7e9ed-9ee5-433a-9ae6-b1b3bd10fa2d",
   "metadata": {},
   "outputs": [
    {
     "name": "stdout",
     "output_type": "stream",
     "text": [
      "0.49180999999407504 ms\n"
     ]
    }
   ],
   "source": [
    "time = timeit(lambda: dot(a_list, b_list), number=10)\n",
    "\n",
    "print(((time * 1000) / 10), \"ms\")"
   ]
  },
  {
   "cell_type": "code",
   "execution_count": 19,
   "id": "d6b9ab16-ac1d-4627-a469-8eadeb0c8290",
   "metadata": {},
   "outputs": [
    {
     "name": "stdout",
     "output_type": "stream",
     "text": [
      "0.047010000002956076 ms\n"
     ]
    }
   ],
   "source": [
    "time = timeit(lambda: np.dot(a_array, b_array), number=10)\n",
    "\n",
    "print(((time * 1000) / 10), \"ms\")"
   ]
  },
  {
   "cell_type": "markdown",
   "id": "e33a999f-8fbb-40f9-ba74-0f20aedcbb93",
   "metadata": {},
   "source": [
    "The caching problem does not apply anymore."
   ]
  },
  {
   "cell_type": "code",
   "execution_count": 20,
   "id": "d0438f6a-2db1-4c4a-8679-b72f8295a5b0",
   "metadata": {},
   "outputs": [],
   "source": [
    "def time_function(function, *args, reps=100):\n",
    "    \"\"\"\n",
    "    Times function execution reps times, and returns the average execution\n",
    "    time in milliseconds.\n",
    "    Param: function, function arguments\n",
    "    Return: float\n",
    "    \"\"\"\n",
    "\n",
    "    avg_time = timeit(lambda: function(*args), number=reps) / reps\n",
    "    \n",
    "    return avg_time * 1000"
   ]
  },
  {
   "cell_type": "code",
   "execution_count": 21,
   "id": "f42ae908-b256-4e28-b3d1-c540f3ab1258",
   "metadata": {},
   "outputs": [
    {
     "data": {
      "text/plain": [
       "0.4140519999987191"
      ]
     },
     "execution_count": 21,
     "metadata": {},
     "output_type": "execute_result"
    }
   ],
   "source": [
    "pyt_np = time_function(dot, a_array, b_array)\n",
    "pyt_np"
   ]
  },
  {
   "cell_type": "code",
   "execution_count": 22,
   "id": "46aa7a12-a1c4-4c81-b641-cdba795d9d0b",
   "metadata": {},
   "outputs": [
    {
     "data": {
      "text/plain": [
       "0.4579050000006646"
      ]
     },
     "execution_count": 22,
     "metadata": {},
     "output_type": "execute_result"
    }
   ],
   "source": [
    "pyt_list = time_function(dot, a_list, b_list)\n",
    "pyt_list"
   ]
  },
  {
   "cell_type": "code",
   "execution_count": 23,
   "id": "90b246fd-5f57-456a-bdd7-75be83456f4a",
   "metadata": {},
   "outputs": [
    {
     "data": {
      "text/plain": [
       "5.584714000001441"
      ]
     },
     "execution_count": 23,
     "metadata": {},
     "output_type": "execute_result"
    }
   ],
   "source": [
    "numba_list = time_function(dot_numba, a_list, b_list) \n",
    "numba_list"
   ]
  },
  {
   "cell_type": "code",
   "execution_count": 39,
   "id": "e4821826-41a5-429b-9845-6cd2552340e2",
   "metadata": {},
   "outputs": [
    {
     "data": {
      "text/plain": [
       "0.03295699999853241"
      ]
     },
     "execution_count": 39,
     "metadata": {},
     "output_type": "execute_result"
    }
   ],
   "source": [
    "np_dot = time_function(np.dot, a_array, b_array)\n",
    "np_dot"
   ]
  },
  {
   "cell_type": "code",
   "execution_count": 40,
   "id": "f5eb35bf-492c-4b86-b332-a9d7eb6db3b8",
   "metadata": {
    "tags": []
   },
   "outputs": [
    {
     "data": {
      "text/plain": [
       "0.003805000001193548"
      ]
     },
     "execution_count": 40,
     "metadata": {},
     "output_type": "execute_result"
    }
   ],
   "source": [
    "numba = time_function(dot_np_numba, a_array, b_array)\n",
    "numba"
   ]
  },
  {
   "cell_type": "code",
   "execution_count": 41,
   "id": "9b130f46-5f2b-49c7-8a96-fdf35daaed20",
   "metadata": {},
   "outputs": [
    {
     "data": {
      "text/plain": [
       "0.003696000001127686"
      ]
     },
     "execution_count": 41,
     "metadata": {},
     "output_type": "execute_result"
    }
   ],
   "source": [
    "bodo = time_function(dot_np_bodo, a_array, b_array)\n",
    "bodo"
   ]
  },
  {
   "cell_type": "code",
   "execution_count": 27,
   "id": "d40358ad-1d82-4ce6-9d92-023c0b5754b5",
   "metadata": {},
   "outputs": [
    {
     "data": {
      "image/png": "[encoded data removed]",
      "text/plain": [
       "<Figure size 432x288 with 1 Axes>"
      ]
     },
     "metadata": {
      "needs_background": "light"
     },
     "output_type": "display_data"
    }
   ],
   "source": [
    "fig = plt.figure()\n",
    "ax = fig.add_axes([0,0,1,1])\n",
    "langs = ['NumPy arrays in Python', 'Python list', 'NumPy', 'NumPy + Numba']\n",
    "students = [pyt_np,pyt_list,np_dot,numba]\n",
    "ax.bar(langs,students)\n",
    "plt.show()"
   ]
  },
  {
   "cell_type": "markdown",
   "id": "6d5a2eb5-d595-4f2f-b25a-c5eb7b15bd62",
   "metadata": {},
   "source": [
    "Lent's next see how the times change as the legth of the vector grows. \n",
    "\n",
    "Build a function to time the different dot product functions at different lengths. Timing the function multiple times using the same vector might produce an inaccurate result, because the dot product may be faster to compute for some vectors. Repeat over different vectors to ensure fair test."
   ]
  },
  {
   "cell_type": "code",
   "execution_count": 27,
   "id": "c18e5aa6-a444-48ef-85e3-834efd38de0a",
   "metadata": {},
   "outputs": [],
   "source": [
    "def time_dot_product(\n",
    "    func,\n",
    "    vector_length,\n",
    "    input_type = \"array\",\n",
    "    data_reps = 10,\n",
    "    reps = 10\n",
    "):\n",
    "    \n",
    "    \"\"\"\n",
    "    Takes func, a function that perfroms a calculation on two vectors (array-lines) and   \n",
    "    returns the times (in ms) the function takes to run on std. normal generated vectors.\n",
    "    \n",
    "    Arguments:\n",
    "    ----------\n",
    "    func (function): a function that perfroms a calculation on two vectors (array-lines)\n",
    "    vector_length (int): the length that the radom vectors should be\n",
    "    input_type (str): Vontrols the data type of the random vector. Takes values \\\"list\\\" or \\\"array\\\"\n",
    "    data_reps (int): the number of times to generate the data\n",
    "    reps (int): the number of time to run the timer for each data set\n",
    "    \"\"\"\n",
    "    \n",
    "    total_time = 0\n",
    "    \n",
    "    for i in range(0, data_reps):\n",
    "        \n",
    "        A = np.random.standard_normal(vector_length)\n",
    "        B = np.random.standard_normal(vector_length)\n",
    "        \n",
    "        if input_type == \"list\":\n",
    "            A = list(A)\n",
    "            B = list(B)\n",
    "            \n",
    "        inst_time = time_function(func, A, B, reps=reps)\n",
    "        \n",
    "        total_time += inst_time\n",
    "    \n",
    "    avg_time = total_time / data_reps\n",
    "    \n",
    "    return avg_time"
   ]
  },
  {
   "cell_type": "markdown",
   "id": "24d7cc1e-0fd5-4ba7-b51b-c5089c41f2cd",
   "metadata": {},
   "source": [
    "Time each of the functions for vectors of lengths 1 to 1,000,000. For a slower computer a lower order of magnitude should be chosen. With a faster computer, it might be interesting to see how the functions perform on much longer vectors."
   ]
  },
  {
   "cell_type": "code",
   "execution_count": 28,
   "id": "8b66a523-3b4f-40c5-aa61-ab1ed1620848",
   "metadata": {},
   "outputs": [],
   "source": [
    "# Create an array of increasing times\n",
    "\n",
    "ord_mag = 6\n",
    "lengths = [10 ** n for n in range(0, ord_mag + 1)]"
   ]
  },
  {
   "cell_type": "code",
   "execution_count": 29,
   "id": "49d15404-26d0-42f6-b33f-464e3d02f925",
   "metadata": {},
   "outputs": [
    {
     "data": {
      "text/plain": [
       "[0.0029970000014145626,\n",
       " 0.008071000006566464,\n",
       " 0.057220999999572086,\n",
       " 0.26652300000478135,\n",
       " 2.2520639999970626,\n",
       " 20.74105400000235,\n",
       " 208.20484499999793]"
      ]
     },
     "execution_count": 29,
     "metadata": {},
     "output_type": "execute_result"
    }
   ],
   "source": [
    "loop_list_times = [time_dot_product(dot, e, \"list\") for e in lengths]\n",
    "loop_list_times"
   ]
  },
  {
   "cell_type": "code",
   "execution_count": 30,
   "id": "e85c33df-41be-4579-a404-6e89a3413a28",
   "metadata": {},
   "outputs": [
    {
     "data": {
      "text/plain": [
       "[0.00277299999652314,\n",
       " 0.005857999999534513,\n",
       " 0.03460199999381075,\n",
       " 0.4159270000036486,\n",
       " 3.4732299999950556,\n",
       " 28.957168999997975,\n",
       " 286.6477069999951]"
      ]
     },
     "execution_count": 30,
     "metadata": {},
     "output_type": "execute_result"
    }
   ],
   "source": [
    "loop_array_times = [time_dot_product(dot, length, \"array\") for length in lengths]\n",
    "loop_array_times"
   ]
  },
  {
   "cell_type": "code",
   "execution_count": 33,
   "id": "673463a3-f3d7-4c35-977c-cdb2366c6d6b",
   "metadata": {
    "tags": []
   },
   "outputs": [
    {
     "data": {
      "text/plain": [
       "[0.01483799999959956,\n",
       " 0.016738000001623732,\n",
       " 0.005698999998458021,\n",
       " 0.006552999998348241,\n",
       " 0.007450999999036867,\n",
       " 0.05914699999948425,\n",
       " 0.9742510000046423]"
      ]
     },
     "execution_count": 33,
     "metadata": {},
     "output_type": "execute_result"
    }
   ],
   "source": [
    "np_times = [time_dot_product(np.dot, length) for length in lengths]\n",
    "np_times"
   ]
  },
  {
   "cell_type": "code",
   "execution_count": 34,
   "id": "af7be708-65a3-407b-84a8-14ae14e9b9b4",
   "metadata": {},
   "outputs": [
    {
     "data": {
      "text/plain": [
       "[0.0021679999986190523,\n",
       " 0.002071999997497187,\n",
       " 0.0027040000054512348,\n",
       " 0.004087999998318992,\n",
       " 0.007312000000183616,\n",
       " 0.05725199999915276,\n",
       " 0.9619620000034956]"
      ]
     },
     "execution_count": 34,
     "metadata": {},
     "output_type": "execute_result"
    }
   ],
   "source": [
    "np_numba_times = [time_dot_product(dot_np_numba, length) for length in lengths]\n",
    "np_numba_times"
   ]
  },
  {
   "cell_type": "code",
   "execution_count": 35,
   "id": "f1359905-3749-48f9-8e2a-927375f86dcc",
   "metadata": {},
   "outputs": [
    {
     "data": {
      "image/png": "[encoded data removed]",
      "text/plain": [
       "<Figure size 432x288 with 1 Axes>"
      ]
     },
     "metadata": {
      "needs_background": "light"
     },
     "output_type": "display_data"
    }
   ],
   "source": [
    "# plot numpy time v.s. loop time\n",
    "\n",
    "plt.plot(lengths, loop_list_times, label = \"Loop-based function with lists as inputs\")\n",
    "plt.plot(lengths, loop_array_times, label = \"Loop-based function with arrays as inputs\")\n",
    "plt.plot(lengths, np_times, label = \"Numpy's function\")\n",
    "plt.plot(lengths, np_numba_times, label = \"Numba compiled Numpy's function\")\n",
    "plt.title(\"Time Comparison of Dot Product Functions\")\n",
    "plt.xlabel(\"Length of Vectors\")\n",
    "plt.ylabel(\"Average Time (ms)\")\n",
    "plt.legend()\n",
    "plt.show()"
   ]
  },
  {
   "cell_type": "code",
   "execution_count": 63,
   "id": "5e4bfc67-77c4-49b4-b012-160450f3f014",
   "metadata": {},
   "outputs": [
    {
     "data": {
      "image/png": "[encoded data removed]",
      "text/plain": [
       "<Figure size 432x288 with 1 Axes>"
      ]
     },
     "metadata": {
      "needs_background": "light"
     },
     "output_type": "display_data"
    }
   ],
   "source": [
    "plt.plot(lengths, np_times, label = \"Numpy's function\")\n",
    "plt.plot(lengths, np_numba_times, label = \"Numba compiled Numpy's function\")\n",
    "plt.title(\"Time Comparison of Dot Product Functions\")\n",
    "plt.xlabel(\"Length of Vectors\")\n",
    "plt.ylabel(\"Average Time (ms)\")\n",
    "plt.legend()\n",
    "plt.show()"
   ]
  },
  {
   "cell_type": "code",
   "execution_count": 90,
   "id": "ca72a401-eac4-4109-b276-e33094616d9e",
   "metadata": {},
   "outputs": [
    {
     "data": {
      "image/png": "[encoded data removed]",
      "text/plain": [
       "<Figure size 432x288 with 1 Axes>"
      ]
     },
     "metadata": {
      "needs_background": "light"
     },
     "output_type": "display_data"
    }
   ],
   "source": [
    "plt.plot(lengths, np_times, label = \"Numpy's function\", c = \"C2\")\n",
    "plt.title(\"Time Comparison of Dot Product Functions\")\n",
    "plt.xlabel(\"Length of Vectors\")\n",
    "plt.ylabel(\"Average Time (ms)\")\n",
    "plt.legend()\n",
    "plt.show()"
   ]
  },
  {
   "cell_type": "markdown",
   "id": "4fbb02f8-f282-4594-892c-5cb1ea448737",
   "metadata": {},
   "source": [
    "In conclusion, one should use NumPy to compute a dot product and \n",
    "probably for other vector operations. However, it takes significantly \n",
    "more time to iterate over a NumPy array than a list. If one needs to \n",
    "write a loop, lists are faster."
   ]
  },
  {
   "cell_type": "code",
   "execution_count": null,
   "id": "17de203f-b4e5-4516-bc50-be6128c07146",
   "metadata": {},
   "outputs": [],
   "source": []
  }
 ],
 "metadata": {
  "kernelspec": {
   "display_name": "Python 3",
   "language": "python",
   "name": "python3"
  },
  "language_info": {
   "codemirror_mode": {
    "name": "ipython",
    "version": 3
   },
   "file_extension": ".py",
   "mimetype": "text/x-python",
   "name": "python",
   "nbconvert_exporter": "python",
   "pygments_lexer": "ipython3",
   "version": "3.8.10"
  }
 },
 "nbformat": 4,
 "nbformat_minor": 5
}
